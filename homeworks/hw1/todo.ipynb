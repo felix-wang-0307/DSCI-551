{
 "cells": [
  {
   "cell_type": "code",
   "execution_count": 1,
   "metadata": {
    "id": "aQIBf1hEuF0j"
   },
   "outputs": [],
   "source": [
    "#put your colab link here:\n",
    "#https://colab.research.google.com/drive/xxx"
   ]
  },
  {
   "cell_type": "code",
   "execution_count": 2,
   "metadata": {
    "colab": {
     "base_uri": "https://localhost:8080/"
    },
    "id": "G2gBuzNovubY",
    "outputId": "c6b519d7-d633-467a-a0f8-5cc63486bc58"
   },
   "outputs": [
    {
     "name": "stdout",
     "output_type": "stream",
     "text": [
      "Clearing all tasks in the database...\n"
     ]
    },
    {
     "data": {
      "text/plain": [
       "{'error': '404 Not Found'}"
      ]
     },
     "execution_count": 2,
     "metadata": {},
     "output_type": "execute_result"
    }
   ],
   "source": [
    "from TodoClient import TodoClient\n",
    "\n",
    "dburl = \"https://dsci-dbd03-default-rtdb.firebaseio.com/tasks\"\n",
    "\n",
    "todo = TodoClient(dburl)\n",
    "todo.clear()"
   ]
  },
  {
   "cell_type": "code",
   "execution_count": 3,
   "metadata": {
    "colab": {
     "base_uri": "https://localhost:8080/",
     "height": 35
    },
    "id": "tMtKu1AKvsAd",
    "outputId": "97f5d8b5-c498-4935-e745-d07bdc87b045"
   },
   "outputs": [
    {
     "data": {
      "text/plain": [
       "'Success!'"
      ]
     },
     "execution_count": 3,
     "metadata": {},
     "output_type": "execute_result"
    }
   ],
   "source": [
    "from TodoClient import TodoClient\n",
    "\n",
    "# dburl = \"https://dsci-dbd02-default-rtdb.firebaseio.com/tasks\"\n",
    "# change it to your own database url:\n",
    "dburl = \"https://dsci551-d8b40-default-rtdb.firebaseio.com/tasks\"\n",
    "\n",
    "todo = TodoClient(dburl)\n",
    "\n",
    "todo.clear()"
   ]
  },
  {
   "cell_type": "code",
   "execution_count": 4,
   "metadata": {
    "colab": {
     "base_uri": "https://localhost:8080/",
     "height": 35
    },
    "id": "-ImChPyMu1go",
    "outputId": "354cf858-ce9f-492c-8fdf-c4f2bce4a227"
   },
   "outputs": [
    {
     "data": {
      "text/plain": [
       "'Error in delete_task: task \"watch movie\" does not exist!'"
      ]
     },
     "execution_count": 4,
     "metadata": {},
     "output_type": "execute_result"
    }
   ],
   "source": [
    "todo.delete_task('watch movie')"
   ]
  },
  {
   "cell_type": "code",
   "execution_count": 5,
   "metadata": {
    "colab": {
     "base_uri": "https://localhost:8080/",
     "height": 35
    },
    "id": "6WRD_U7cu8gY",
    "outputId": "917507d2-275f-4d5e-acb4-9aa113e07d75"
   },
   "outputs": [
    {
     "data": {
      "text/plain": [
       "'Success!'"
      ]
     },
     "execution_count": 5,
     "metadata": {},
     "output_type": "execute_result"
    }
   ],
   "source": [
    "todo.add_task('watch movie')"
   ]
  },
  {
   "cell_type": "code",
   "execution_count": 6,
   "metadata": {
    "colab": {
     "base_uri": "https://localhost:8080/"
    },
    "id": "qrH7cqv5wOmn",
    "outputId": "b22dcbf1-75a6-4148-8158-cc998a2484fb"
   },
   "outputs": [
    {
     "data": {
      "text/plain": [
       "{'watch movie': 'pending'}"
      ]
     },
     "execution_count": 6,
     "metadata": {},
     "output_type": "execute_result"
    }
   ],
   "source": [
    "todo.get_all_tasks()"
   ]
  },
  {
   "cell_type": "code",
   "execution_count": 7,
   "metadata": {
    "colab": {
     "base_uri": "https://localhost:8080/",
     "height": 35
    },
    "id": "EC0tpkF_wP-o",
    "outputId": "73eff29a-ca46-46fb-d3f5-cf7ee0f2d9b9"
   },
   "outputs": [
    {
     "data": {
      "text/plain": [
       "'Success!'"
      ]
     },
     "execution_count": 7,
     "metadata": {},
     "output_type": "execute_result"
    }
   ],
   "source": [
    "todo.mark_completed('watch movie')"
   ]
  },
  {
   "cell_type": "code",
   "execution_count": 8,
   "metadata": {
    "colab": {
     "base_uri": "https://localhost:8080/",
     "height": 35
    },
    "id": "yJqmhGUntHme",
    "outputId": "2ea421f5-f3a6-487a-f6f2-7f3aa847ae64"
   },
   "outputs": [
    {
     "data": {
      "text/plain": [
       "'Success!'"
      ]
     },
     "execution_count": 8,
     "metadata": {},
     "output_type": "execute_result"
    }
   ],
   "source": [
    "todo.add_task('complete hw1')"
   ]
  },
  {
   "cell_type": "code",
   "execution_count": 9,
   "metadata": {
    "colab": {
     "base_uri": "https://localhost:8080/"
    },
    "id": "nPA1lHCwtMgo",
    "outputId": "f99a044b-0982-41c1-9122-d4cf5ae41177"
   },
   "outputs": [
    {
     "data": {
      "text/plain": [
       "['complete hw1']"
      ]
     },
     "execution_count": 9,
     "metadata": {},
     "output_type": "execute_result"
    }
   ],
   "source": [
    "todo.get_task_by_status('pending')"
   ]
  },
  {
   "cell_type": "code",
   "execution_count": 10,
   "metadata": {
    "colab": {
     "base_uri": "https://localhost:8080/"
    },
    "id": "lCJKYqgJtRez",
    "outputId": "76738aec-c420-4478-fed9-8be0c27019ba"
   },
   "outputs": [
    {
     "data": {
      "text/plain": [
       "{'complete hw1': 'pending', 'watch movie': 'completed'}"
      ]
     },
     "execution_count": 10,
     "metadata": {},
     "output_type": "execute_result"
    }
   ],
   "source": [
    "todo.get_all_tasks()"
   ]
  },
  {
   "cell_type": "code",
   "execution_count": null,
   "metadata": {
    "id": "SztIqtSetTRO"
   },
   "outputs": [],
   "source": []
  }
 ],
 "metadata": {
  "colab": {
   "provenance": []
  },
  "kernelspec": {
   "display_name": "Python 3 (ipykernel)",
   "language": "python",
   "name": "python3"
  },
  "language_info": {
   "codemirror_mode": {
    "name": "ipython",
    "version": 3
   },
   "file_extension": ".py",
   "mimetype": "text/x-python",
   "name": "python",
   "nbconvert_exporter": "python",
   "pygments_lexer": "ipython3",
   "version": "3.12.10"
  }
 },
 "nbformat": 4,
 "nbformat_minor": 4
}
